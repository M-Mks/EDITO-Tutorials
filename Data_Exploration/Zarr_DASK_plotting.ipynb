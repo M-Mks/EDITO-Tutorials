{
 "cells": [
  {
   "cell_type": "markdown",
   "metadata": {},
   "source": [
    "### Import Libraries"
   ]
  },
  {
   "cell_type": "code",
   "execution_count": null,
   "metadata": {},
   "outputs": [],
   "source": [
    "import xarray as xr\n",
    "import numpy as np\n",
    "import cartopy.crs as ccrs\n",
    "import matplotlib.pyplot as plt\n",
    "from matplotlib.ticker import MaxNLocator\n",
    "import dask.array as da\n",
    "import s3fs\n",
    "import dask\n",
    "from dask.distributed import Client, LocalCluster"
   ]
  },
  {
   "cell_type": "markdown",
   "metadata": {},
   "source": [
    "### Using DASK for parallel processing\n",
    "\n",
    "Initialise a Dask Cluster and client for processing your Zarr Dataset, the dashboard link allows for simple visualisatoion of your ongoing processing."
   ]
  },
  {
   "cell_type": "code",
   "execution_count": null,
   "metadata": {},
   "outputs": [],
   "source": [
    "# Create a Dask cluster\n",
    "cluster = LocalCluster()\n",
    "client = Client(cluster)\n",
    "client"
   ]
  },
  {
   "cell_type": "markdown",
   "metadata": {},
   "source": [
    "### Access and Open the dataset and inspect using Xarray and Dask\n",
    "\n",
    "Dask has integrated support for Xarray, as such by specifying the 'chunks' parameter when opening the dataset, the array will automatically be opened as a chunked dask array.\n",
    "\n",
    "As such, the subsetting steps below will automatically processed the different chunks in parallel.\n",
    "\n",
    "For additional information and implementation examples of DASK please refer to the library documentation: https://docs.dask.org/en/stable/\n",
    "\n",
    "For specific examples of using Dask for geoprocessing aditionnal information can be found on Pange: https://gallery.pangeo.io/repos/pangeo-data/pangeo-tutorial-gallery/dask.html"
   ]
  },
  {
   "cell_type": "code",
   "execution_count": null,
   "metadata": {},
   "outputs": [],
   "source": [
    "# Replace with your online zarr storage for your personal zarr files\n",
    "host = 'https://s3.waw3-1.cloudferro.com'\n",
    "bucket = 'emodnet'\n",
    "arco_location = 'bathymetry/bathymetry_2022.zarr'\n",
    "\n",
    "# Access the Dataset using xarray and dask\n",
    "dataset = xr.open_dataset(f\"{host}/{bucket}/{arco_location}\", chunks='auto') #\n",
    "dataset"
   ]
  },
  {
   "cell_type": "markdown",
   "metadata": {},
   "source": [
    "### Defining regions of interest for subsetting the Bathymetry dataset."
   ]
  },
  {
   "cell_type": "code",
   "execution_count": null,
   "metadata": {},
   "outputs": [],
   "source": [
    "# Define bounding boxes, vmin, and vmax for different regions within European waters\n",
    "regions = ['North Sea', 'Eastern Baltic Sea', 'Western Baltic Sea', 'Bay of Biscay', 'Brittany', 'Mediterranean Sea']       # Insert region name\n",
    "bboxes = [(-2, 8, 50, 60), (17, 30, 55, 62), (7, 18, 53, 60), (-6.5, -0.5, 43,48), (-5.5, -1, 47, 50), (-6, 37, 30, 45.5)]  # Insert BBOX as Follows: [Wlat, Elat, Slon, Nlon) all in degrees.\n",
    "vmins = [-500, -300, -500, -5000, -300, -5000]                                                                              # insert the max and min boundaries of the plotted colorbar\n",
    "vmaxes = [0, 0, 0, 0, 0, 0]"
   ]
  },
  {
   "cell_type": "markdown",
   "metadata": {},
   "source": [
    "### Define the plotting function using ax.imshow \n",
    "Using imshow for plotting the dataset has proven to run much faster with DASK than other conventional libraries such as matplotlib and cartopy."
   ]
  },
  {
   "cell_type": "code",
   "execution_count": null,
   "metadata": {},
   "outputs": [],
   "source": [
    "# Define colors for elevation levels\n",
    "cmap = 'viridis'\n",
    "\n",
    "# Function to plot a single chunk of elevation data with actual latitudes and longitudes\n",
    "def plot_regions(chunk, ax, lat, lon, region, vmin, vmax):\n",
    "    \n",
    "    im = ax.imshow(chunk, cmap=cmap,interpolation='nearest', origin='lower', extent=(lon[0], lon[-1], lat[0], lat[-1]), vmin=vmin, vmax=vmax)\n",
    "    \n",
    "    lon_ticks = lon.values[::int(lon.size / 7)]  \n",
    "    lat_ticks = lat.values[::int(lat.size / 7)]  \n",
    "    \n",
    "    ax.set_xticks(lon_ticks)  \n",
    "    ax.set_yticks(lat_ticks)   \n",
    "    ax.set_xlabel('Longitude (degrees)')\n",
    "    ax.set_ylabel('Latitude (degrees)')\n",
    "    ax.set_title(f'Elevation Map - {region}')\n",
    "    ax.grid(visible=True, which='major', axis='both', color='black', linestyle='-', linewidth=0.5)\n",
    "\n",
    "    ax.coastlines(resolution='10m')\n",
    "    cbar = plt.colorbar(im, ax=ax, orientation='vertical',  fraction = 0.025)\n",
    "    cbar.set_label('Elevation (m)')\n",
    "   "
   ]
  },
  {
   "cell_type": "markdown",
   "metadata": {},
   "source": [
    "### Subsetting the dataset and plotting\n",
    "\n"
   ]
  },
  {
   "cell_type": "code",
   "execution_count": null,
   "metadata": {},
   "outputs": [],
   "source": [
    "%%time\n",
    "# Loop through each region\n",
    "for idx, (region, bbox, vmin, vmax) in enumerate(zip(regions, bboxes, vmins, vmaxes)):\n",
    "    subset_dataset = dataset.sel(latitude=slice(bbox[2], bbox[3]), longitude=slice(bbox[0], bbox[1]))\n",
    "    dask_array = subset_dataset['elevation']\n",
    "    print(dask_array)\n",
    "    \n",
    "    # Create a figure for each region\n",
    "    fig, ax = plt.subplots(1, 1, figsize=(8, 8), subplot_kw={'projection': ccrs.PlateCarree()})\n",
    "    region_to_plot = dask_array.compute()                                                                       # Call .compute() to process the dataset using the DASK Cluster.\n",
    "    plot_regions(region_to_plot, ax, region_to_plot.latitude, region_to_plot.longitude, region, vmin, vmax)\n",
    "    \n",
    "    plt.tight_layout()\n",
    "    #plt.savefig(f\"{region}_elevation_map.png\")                                                                 # Uncomment and specify name and location to save each figure with region name\n",
    "    plt.show()"
   ]
  }
 ],
 "metadata": {
  "kernelspec": {
   "display_name": "Dask_workspace",
   "language": "python",
   "name": "python3"
  },
  "language_info": {
   "codemirror_mode": {
    "name": "ipython",
    "version": 3
   },
   "file_extension": ".py",
   "mimetype": "text/x-python",
   "name": "python",
   "nbconvert_exporter": "python",
   "pygments_lexer": "ipython3",
   "version": "3.11.7"
  }
 },
 "nbformat": 4,
 "nbformat_minor": 2
}
