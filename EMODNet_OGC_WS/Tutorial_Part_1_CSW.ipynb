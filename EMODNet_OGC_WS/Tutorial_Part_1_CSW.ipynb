{
 "cells": [
  {
   "cell_type": "markdown",
   "metadata": {},
   "source": [
    "<img src=\".\\EMODnet_compact_colour (1).png\" align=\"right\" width=\"40%\"></img>\n",
    "# EMODnet OGC services Workshop\n",
    "### Tier 2: How to use OGC webservices offered by EMODnet in your data analysis"
   ]
  },
  {
   "cell_type": "markdown",
   "metadata": {},
   "source": [
    "## 1. Search through metadata using the OGC Catalogue Service (CSW)"
   ]
  },
  {
   "cell_type": "markdown",
   "metadata": {},
   "source": [
    "The OWSLib library is a python library that allows for accessing data and metadata through OGC services. The library abstracts all of the traditional HTTP API calls into programmatic function calls. We will be using this library throughout the tutorial to interact with the MissionAtlantic GeoNode OGC services.\n",
    "\n",
    "The library is available from GitHub @  https://github.com/geopython/OWSLib"
   ]
  },
  {
   "cell_type": "code",
   "execution_count": 1,
   "metadata": {},
   "outputs": [],
   "source": [
    "from owslib.csw import CatalogueServiceWeb"
   ]
  },
  {
   "cell_type": "markdown",
   "metadata": {},
   "source": [
    "#### Create a CatalogueServiceWeb object connecting to the EMODnet catalogue webservice\n"
   ]
  },
  {
   "cell_type": "code",
   "execution_count": 2,
   "metadata": {},
   "outputs": [],
   "source": [
    "csw = CatalogueServiceWeb('https://emodnet.ec.europa.eu/geonetwork/emodnet/eng/csw')"
   ]
  },
  {
   "cell_type": "markdown",
   "metadata": {},
   "source": [
    "#### Inspect its properties using print()"
   ]
  },
  {
   "cell_type": "code",
   "execution_count": 3,
   "metadata": {},
   "outputs": [
    {
     "name": "stdout",
     "output_type": "stream",
     "text": [
      "CSW\n",
      "None\n",
      "2.0.2\n",
      "['GetCapabilities', 'DescribeRecord', 'GetDomain', 'GetRecords', 'GetRecordById', 'Transaction', 'Harvest']\n"
     ]
    }
   ],
   "source": [
    "print(csw.identification.type)\n",
    "print(csw.identification.title)\n",
    "print(csw.identification.version)\n",
    "print([op.name for op in csw.operations])"
   ]
  },
  {
   "cell_type": "markdown",
   "metadata": {},
   "source": [
    "#### Inspect the supported GetDomain parameters"
   ]
  },
  {
   "cell_type": "code",
   "execution_count": 4,
   "metadata": {},
   "outputs": [
    {
     "data": {
      "text/plain": [
       "{'resultType': {'values': ['hits', 'results', 'validate']},\n",
       " 'outputFormat': {'values': ['application/xml']},\n",
       " 'outputSchema': {'values': ['http://www.opengis.net/cat/csw/2.0.2',\n",
       "   'http://www.isotc211.org/2005/gfc',\n",
       "   'http://www.w3.org/ns/dcat#',\n",
       "   'http://www.isotc211.org/2005/gmd',\n",
       "   'http://standards.iso.org/iso/19115/-3/mdb/2.0']},\n",
       " 'typeNames': {'values': ['csw:Record',\n",
       "   'gfc:FC_FeatureCatalogue',\n",
       "   'dcat',\n",
       "   'gmd:MD_Metadata',\n",
       "   'mdb:MD_Metadata']},\n",
       " 'CONSTRAINTLANGUAGE': {'values': ['FILTER', 'CQL_TEXT']}}"
      ]
     },
     "execution_count": 4,
     "metadata": {},
     "output_type": "execute_result"
    }
   ],
   "source": [
    "csw.get_operation_by_name(\"GetRecords\").parameters"
   ]
  },
  {
   "cell_type": "markdown",
   "metadata": {},
   "source": [
    "#### Get supported constraint languages"
   ]
  },
  {
   "cell_type": "code",
   "execution_count": 5,
   "metadata": {},
   "outputs": [
    {
     "data": {
      "text/plain": [
       "{'type': 'csw:Record',\n",
       " 'parameter': 'GetRecords.CONSTRAINTLANGUAGE',\n",
       " 'values': []}"
      ]
     },
     "execution_count": 5,
     "metadata": {},
     "output_type": "execute_result"
    }
   ],
   "source": [
    "csw.getdomain('GetRecords.CONSTRAINTLANGUAGE')\n",
    "csw.results"
   ]
  },
  {
   "cell_type": "markdown",
   "metadata": {},
   "source": [
    "#### Get the supported elementsets"
   ]
  },
  {
   "cell_type": "code",
   "execution_count": 6,
   "metadata": {},
   "outputs": [
    {
     "data": {
      "text/plain": [
       "{'type': 'csw:Record',\n",
       " 'parameter': 'GetRecords.ElementSetName',\n",
       " 'values': ['brief', 'summary', 'full']}"
      ]
     },
     "execution_count": 6,
     "metadata": {},
     "output_type": "execute_result"
    }
   ],
   "source": [
    "csw.getdomain('GetRecords.ElementSetName')\n",
    "csw.results"
   ]
  },
  {
   "cell_type": "markdown",
   "metadata": {},
   "source": [
    "#### Get supported output formats"
   ]
  },
  {
   "cell_type": "code",
   "execution_count": 7,
   "metadata": {},
   "outputs": [
    {
     "data": {
      "text/plain": [
       "{'type': 'csw:Record',\n",
       " 'parameter': 'GetRecords.outputFormat',\n",
       " 'values': ['application/xml']}"
      ]
     },
     "execution_count": 7,
     "metadata": {},
     "output_type": "execute_result"
    }
   ],
   "source": [
    "csw.getdomain('GetRecords.outputFormat')\n",
    "csw.results"
   ]
  },
  {
   "cell_type": "markdown",
   "metadata": {},
   "source": [
    "#### Get supported output schemas"
   ]
  },
  {
   "cell_type": "code",
   "execution_count": 8,
   "metadata": {},
   "outputs": [
    {
     "data": {
      "text/plain": [
       "{'type': 'csw:Record',\n",
       " 'parameter': 'GetRecords.outputSchema',\n",
       " 'values': ['http://www.isotc211.org/2005/gmd',\n",
       "  'http://www.opengis.net/cat/csw/2.0.2',\n",
       "  'http://www.isotc211.org/2005/gfc',\n",
       "  'http://www.w3.org/ns/dcat#',\n",
       "  'http://standards.iso.org/iso/19115/-3/mdb/2.0']}"
      ]
     },
     "execution_count": 8,
     "metadata": {},
     "output_type": "execute_result"
    }
   ],
   "source": [
    "csw.getdomain('GetRecords.outputSchema')\n",
    "csw.results"
   ]
  },
  {
   "cell_type": "markdown",
   "metadata": {},
   "source": [
    "#### Search data by using OGC Filter Encoding"
   ]
  },
  {
   "cell_type": "code",
   "execution_count": 9,
   "metadata": {},
   "outputs": [],
   "source": [
    "from owslib.fes import PropertyIsEqualTo, PropertyIsLike"
   ]
  },
  {
   "cell_type": "markdown",
   "metadata": {},
   "source": [
    ">##### Example: search for AnyText fields that equal \"Mediterranean Sea\"\n",
    "'AnyText' searches for the term within any of the text fields in the datasets"
   ]
  },
  {
   "cell_type": "code",
   "execution_count": 10,
   "metadata": {},
   "outputs": [
    {
     "name": "stdout",
     "output_type": "stream",
     "text": [
      "{'matches': 734, 'returned': 20, 'nextrecord': 21}\n",
      "Modelled occurrence probability for Posidonia oceanica meadows across the Mediterranean Sea\n",
      "This dataset is an output of the ÔÇ£Mediterranean Sensitive HabitatsÔÇØ project (MEDISEH). It shows under a raster form modelled spatial distributions of Posidonia oceanica across the Mediterranean Sea. Posidonia oceanica is endemic to the Mediterranean Sea, where it is the dominant seagrass, covering about 50,000 km2 of coastal to offshore sandy and rocky areas down to depths of about 45 m. P. oceanica is a protected species according to EU legislation (Habitat directive), the Bern and Barcelona Conventions and several national legislations. While its distribution is well documented along the European shores of the western Mediterranean Sea, limited information is available about the southern shore and the eastern Mediterranean Sea. In order to bridge this information gap, one of the goals of Task 1.3 of the MEDISEH project was to model P. oceanica distribution across the whole Mediterranean basin.\n",
      "A Random Forest (i.e. a Machine Learning technique) was ÔÇ£trainedÔÇØ on data from regions where information was available and then used to predict the probability of occurrence of P. oceanica where needed. \n",
      "The raster has a spatial resolution of 0.004166 decimal degrees, and the values are in the [0,1] interval (occurrence probabilities).\n",
      "----\n",
      "Aristeus antennatus Spawning map in the central western Mediterranean Sea\n",
      "Data derives from F. Palmas'article, published on February 2015. Aim of this paper is to identify stable spawning and nursery grounds in the Sardinia slope region (central western Mediterranean Sea) for Aristaeomorpha foliacea and Aristeus antennatus. This study also generated relevant information on the spatial and temporal distribution of seasonal or persistent aggregations of spawners and recruits, providing scientific elements to suggest the protection of these important resource. For more informations refer to https://pdfs.semanticscholar.org/3be9/f68e6a203df108f29bdd4c19f5d755682a5e.pdf\n",
      "----\n",
      "Aristeus antennatus Nursery map in the central western Mediterranean Sea\n",
      "Data derives from F. Palmas'article, published on February 2015. Aim of this paper is to identify stable spawning and nursery grounds in the Sardinia slope region (central western Mediterranean Sea) for Aristaeomorpha foliacea and Aristeus antennatus. This study also generated relevant information on the spatial and temporal distribution of seasonal or persistent aggregations of spawners and recruits, providing scientific elements to suggest the protection of these important resource. For more informations refer to https://pdfs.semanticscholar.org/3be9/f68e6a203df108f29bdd4c19f5d755682a5e.pdf\n",
      "----\n",
      "Aristaeomorpha foliacea Nursery map in the central western Mediterranean Sea\n",
      "Data derives from F. Palmas'article, published on February 2015. Aim of this paper is to identify stable spawning and nursery grounds in the Sardinia slope region (central western Mediterranean Sea) for Aristaeomorpha foliacea and Aristeus antennatus. This study also generated relevant information on the spatial and temporal distribution of seasonal or persistent aggregations of spawners and recruits, providing scientific elements to suggest the protection of these important resource. For more informations refer to https://pdfs.semanticscholar.org/3be9/f68e6a203df108f29bdd4c19f5d755682a5e.pdf\n",
      "----\n",
      "Aristaeomorpha foliacea Spawning map in the central western Mediterranean Sea\n",
      "Data derives from F. Palmas'article, published on February 2015. Aim of this paper is to identify stable spawning and nursery grounds in the Sardinia slope region (central western Mediterranean Sea) for Aristaeomorpha foliacea and Aristeus antennatus. This study also generated relevant information on the spatial and temporal distribution of seasonal or persistent aggregations of spawners and recruits, providing scientific elements to suggest the protection of these important resource. For more informations refer to https://pdfs.semanticscholar.org/3be9/f68e6a203df108f29bdd4c19f5d755682a5e.pdf\n",
      "----\n",
      "90th percentile kinetic energy at the seabed due to waves in the Mediterranean Sea and Black Sea\n",
      "90th percentile Kinetic Energy due to waves at the seabed in the Mediterranean Sea and Black Sea in N m2/s - Created for the EMODnet Seabed Habitats broad-scale habitat map (EUSeaMap 2016). \n",
      "\n",
      "90th percentile Kinetic Energy due to waves at the seabed in the Mediterranean Sea and Black Sea  - Created for the EMODnet Seabed Habitats broad-scale habitat map (EUSeaMap 2016). \n",
      "\n",
      "This dataset is a raster composite of the outputs of several models, created for display in the EMODnet Seabed Habitats portal.   \n",
      "The ISPRA Mc-WAF operational tool, designed to merge different scales for the generation and propagation of the wave energy, was used in the Mediterranean Sea (4km resolution) and the Adriatic Sea (1.6km), run for the years 2012-2015. \n",
      "In the Black sea the data was derived from the Kassandra project (variable resolution, years 2012-2014).\n",
      "\n",
      "Each dataset is available separately.\n",
      "----\n",
      "90th percentile kinetic energy at the seabed due to ocean currents in the Mediterranean Sea and Black Sea\n",
      "90th percentile Kinetic Energy due to currents at the seabed in the Mediterranean Sea and Black Sea in N m2/s  - Created for the EMODnet Seabed Habitats broad-scale habitat map (EUSeaMap 2016). \n",
      "\n",
      "This dataset is a raster composite of the outputs of several models, produced for display in the EMODnet Seabed Habitats.  \n",
      "In the Black sea the data was derived from the Copernicus CMEMS project archives, the model resolution is 10km and it was run for the years 1971-1984; 1990-2001. \n",
      "In the Mediterranean Sea the data was derived from the Copernicus CMEMS project (resolution 7 km; years 1999-2011).\n",
      "In the Adriatic Sea the data was derived from the Tessa project archives (resolution 2.2 km, years: 2011-2014).\n",
      "\n",
      "Each dataset is available separately.\n",
      "----\n",
      "Total Suspended Matter Mediterranean Sea\n",
      "EMODnet Physics - TSM_MediterraneanSea - Concentration of total suspended matter (conc_tsm, mg/l) is a product of the Coastcolour L2W Concentrations Data, obtained from the OC4 algorithm for clear and moderate turbid waters, and from the CoastColour v1 neural network.The L2W product was then remapped on a regular grid, maintaining the 300 m full resolution, in order to obtain L3 products over the Mediterranean Sea and monthly averaged. Developed by EMODnet Physics.\n",
      "----\n",
      "Octopus vulgaris Spawning map in the central Mediterranean Sea\n",
      "Data derives from Garofalo's article, published on August 2010. Aim of this paper is to identify the presence of nursery and spawning grounds and the relationship between sea surface temperature (SST) and the abundance of juvenile Octopus vulgaris in the Strait of Sicily, central Mediterranean using fishery-independent data. For more informations refer to https://academic.oup.com/icesjms/article/67/7/1363/664985\n",
      "----\n",
      "Octopus vulgaris Nursery map in the central Mediterranean Sea\n",
      "Data derives from Garofalo's article, published on August 2010. Aim of this paper is to identify the presence of nursery and spawning grounds and the relationship between sea surface temperature (SST) and the abundance of juvenile Octopus vulgaris in the Strait of Sicily, central Mediterranean using fishery-independent data. For more informations refer to https://academic.oup.com/icesjms/article/67/7/1363/664985\n",
      "----\n",
      "Total Suspended Matter Mediterranean Sea - ERDDAP\n",
      "None\n",
      "----\n",
      "Modelled occurrence probability for Posidonia oceanica meadows across the Mediterranean Sea\n",
      "This dataset is an output of the ÔÇ£Mediterranean Sensitive HabitatsÔÇØ project (MEDISEH). It shows under a raster form modelled spatial distributions of Posidonia oceanica across the Mediterranean Sea. Posidonia oceanica is endemic to the Mediterranean Sea, where it is the dominant seagrass, covering about 50,000 km2 of coastal to offshore sandy and rocky areas down to depths of about 45 m. P. oceanica is a protected species according to EU legislation (Habitat directive), the Bern and Barcelona Conventions and several national legislations. While its distribution is well documented along the European shores of the western Mediterranean Sea, limited information is available about the southern shore and the eastern Mediterranean Sea. In order to bridge this information gap, one of the goals of Task 1.3 of the MEDISEH project was to model P. oceanica distribution across the whole Mediterranean basin.\n",
      "A Random Forest (i.e. a Machine Learning technique) was ÔÇ£trainedÔÇØ on data from regions where information was available and then used to predict the probability of occurrence of P. oceanica where needed. \n",
      "The raster has a spatial resolution of 0.004166 decimal degrees, and the values are in the [0,1] interval (occurrence probabilities).\n",
      "----\n",
      "Mediterranean Sea surface CO2 partial pressure and temperature data\n",
      "Hourly measurements made by autonomous Carioca sensors at 2 sites in the northwestern Mediterranean Sea:  Dyfamed (1995-1997), Boussole  (2013-2015)\n",
      "----\n",
      "Modeling of protected habitats using predictor variables - Mediterranean Sensitive Habitats (MEDISEH)\n",
      "This dataset shows modelled spatial distributions of coralligenous outcrops, maërl beds across the Mediterranean Sea. These bioconstructions are typical Mediterranean underwater seascapes, comprising coralline algal frameworks that grow in dim light conditions. They are the result of the building activities of algal and animal constructors, counterbalanced by physical, as well as biological, eroding processes. Because of their extent, biodiversity and production, coralligenous and maërl habitats rank among the most important ecosystems in the Mediterranean\n",
      "Sea, and they are considered of great significance both for fisheries and carbon\n",
      "regulation. <br/>\n",
      "The dataset also shows modelled spatial distributions for <i>Posidonia oceanica</i>. <i>Posidonia oceanica</i> is endemic to the Mediterranean Sea, where it is the dominant seagrass.\n",
      "----\n",
      "Mediterranean Sea DIVA 4D analysis of Water_body_nitrate\n",
      "Moving 10-years analysis of nitrates at Mediterranean Sea for each season :\n",
      "- winter (January-March),\n",
      "- spring (April-June),\n",
      "- summer (July-September),\n",
      "- autumn (October-December).\n",
      "\n",
      "Every year of the time dimension corresponds to the 10-year centered average of each season.\n",
      "Decades span from 1960-1969 until 2004-2013.\n",
      "Observational data span from 1960 to 2013.\n",
      "Depth range (IODE standard depths): -1500.0, -1400.0, -1300.0, -1200.0, -1100.0, -1000.0, -900.0, -800.0, -700.0, -600.0, -500.0, -400.0, -300.0, -250.0, -200.0, -150.0, -125.0, -100.0, -75.0, -50.0, -30.0, -20.0, -10.0, -5.0, -0.0.\n",
      "\n",
      "Data Sources: observational data from SeaDataNet/EMODNet Chemistry Data Network.\n",
      "\n",
      "Description of DIVA analysis:  Geostatistical data analysis by DIVA (Data-Interpolating Variational Analysis) tool. Profiles were interpolated at standard depths using weighted parabolic interpolation algorithm (Reiniger and Ross, 1968). GEBCO 1min topography is used for the contouring preparation. Analyzed filed masked using relative error threshold 0.3 and 0.5.\n",
      "\n",
      "DIVA settings: A constant value for signal-to-noise ratio was used equal to 3. Correlation length was optimized and filtered vertically and a seasonally-averaged profile was used.\n",
      "\n",
      "Logarithmic transformation applied to the data prior to the analysis.\n",
      "Background field: the data mean value is subtracted from the data.\n",
      "Detrending of data: no.\n",
      "Advection constraint applied: no.\n",
      "\n",
      "Originators of Italian data sets-List of contributors\n",
      "•\tBrunetti Fabio (OGS)\n",
      "•\tCardin Vanessa, Bensi Manuel doi:10.6092/36728450-4296-4e6a-967d-d5b6da55f306\n",
      "•\tCardin Vanessa, Bensi Manuel, Ursella Laura, Siena Giuseppe doi:10.6092/f8e6d18e-f877-4aa5-a983-a03b06ccb987\n",
      "•\tCataletto Bruno (OGS)\n",
      "•\tCinzia Comici Cinzia (OGS)\n",
      "•\tCivitarese Giuseppe (OGS)\n",
      "•\tDeVittor Cinzia (OGS)\n",
      "•\tGiani Michele (OGS)\n",
      "•\tKovacevic Vedrana (OGS)\n",
      "•\tMosetti Renzo (OGS)\n",
      "•\tSolidoro C.,Beran A.,Cataletto B.,Celussi M.,Cibic T.,Comici C.,Del Negro P.,De Vittor C.,Minocci M.,Monti M.,Fabbro C.,Falconi C.,Franzo A.,Libralato S.,Lipizer M.,Negussanti J.S.,Russel H.,Valli G., doi:10.6092/e5518899-b914-43b0-8139-023718aa63f5\n",
      "•\tCelio Massimo (ARPA FVG)\n",
      "•\tMalaguti Antonella (ENEA)\n",
      "•\tFonda Umani Serena (UNITS)\n",
      "•\tBignami Francesco (ISAC/CNR)\n",
      "•\tBoldrini Alfredo (ISMAR/CNR)\n",
      "•\tMarini Mauro (ISMAR/CNR)\n",
      "•\tMiserocchi Stefano (ISMAR/CNR)\n",
      "•\tZaccone Renata (IAMC/CNR)\n",
      "•\tLavezza, R., Dubroca, L. F. C., Ludicone, D., Kress, N., Herut, B., Civitarese, G., Cruzado, A., Lefèvre, D., Souvermezoglou, E., Yilmaz, A., Tugrul, S., and Ribera d’Alcala, M.: Compilation of quality controlled nutrient profiles from the Mediterranean Sea, doi:10.1594/PANGAEA.771907, 2011.\n",
      "\n",
      "Units: umol/l\n",
      "----\n",
      "Mediterranean Sea DIVA 4D analysis of Water_body_phosphate\n",
      "Moving 10-years analysis of phosphates at Mediterranean Sea for each season :\n",
      "- winter (January-March),\n",
      "- spring (April-June),\n",
      "- summer (July-September),\n",
      "- autumn (October-December).\n",
      "\n",
      "Every year of the time dimension corresponds to the 10-year centered average of each season.\n",
      "Decades span from 1960-1969 until 2004-2013.\n",
      "Observational data span from 1960 to 2013.\n",
      "Depth range (IODE standard depths): -1500.0, -1400.0, -1300.0, -1200.0, -1100.0, -1000.0, -900.0, -800.0, -700.0, -600.0, -500.0, -400.0, -300.0, -250.0, -200.0, -150.0, -125.0, -100.0, -75.0, -50.0, -30.0, -20.0, -10.0, -5.0, -0.0.\n",
      "\n",
      "Data Sources: observational data from SeaDataNet/EMODNet Chemistry Data Network.\n",
      "\n",
      "Description of DIVA analysis:  Geostatistical data analysis by DIVA (Data-Interpolating Variational Analysis) tool. Profiles were interpolated at standard depths using weighted parabolic interpolation algorithm (Reiniger and Ross, 1968). GEBCO 1min topography is used for the contouring preparation. Analyzed filed masked using relative error threshold 0.3 and 0.5.\n",
      "\n",
      "DIVA settings: A constant value for signal-to-noise ratio was used equal to 3. Correlation length was optimized and filtered vertically and a seasonally-averaged profile was used.\n",
      "\n",
      "Logarithmic transformation applied to the data prior to the analysis.\n",
      "Background field: the data mean value is subtracted from the data.\n",
      "Detrending of data: no.\n",
      "Advection constraint applied: no.\n",
      "\n",
      "Originators of Italian data sets-List of contributors\n",
      "•\tBrunetti Fabio (OGS)\n",
      "•\tCardin Vanessa, Bensi Manuel doi:10.6092/36728450-4296-4e6a-967d-d5b6da55f306\n",
      "•\tCardin Vanessa, Bensi Manuel, Ursella Laura, Siena Giuseppe doi:10.6092/f8e6d18e-f877-4aa5-a983-a03b06ccb987\n",
      "•\tCataletto Bruno (OGS)\n",
      "•\tCinzia Comici Cinzia (OGS)\n",
      "•\tCivitarese Giuseppe (OGS)\n",
      "•\tDeVittor Cinzia (OGS)\n",
      "•\tGiani Michele (OGS)\n",
      "•\tKovacevic Vedrana (OGS)\n",
      "•\tMosetti Renzo (OGS)\n",
      "•\tSolidoro C.,Beran A.,Cataletto B.,Celussi M.,Cibic T.,Comici C.,Del Negro P.,De Vittor C.,Minocci M.,Monti M.,Fabbro C.,Falconi C.,Franzo A.,Libralato S.,Lipizer M.,Negussanti J.S.,Russel H.,Valli G., doi:10.6092/e5518899-b914-43b0-8139-023718aa63f5\n",
      "•\tCelio Massimo (ARPA FVG)\n",
      "•\tMalaguti Antonella (ENEA)\n",
      "•\tFonda Umani Serena (UNITS)\n",
      "•\tBignami Francesco (ISAC/CNR)\n",
      "•\tBoldrini Alfredo (ISMAR/CNR)\n",
      "•\tMarini Mauro (ISMAR/CNR)\n",
      "•\tMiserocchi Stefano (ISMAR/CNR)\n",
      "•\tZaccone Renata (IAMC/CNR)\n",
      "•\tLavezza, R., Dubroca, L. F. C., Ludicone, D., Kress, N., Herut, B., Civitarese, G., Cruzado, A., Lefèvre, D., Souvermezoglou, E., Yilmaz, A., Tugrul, S., and Ribera d’Alcala, M.: Compilation of quality controlled nutrient profiles from the Mediterranean Sea, doi:10.1594/PANGAEA.771907, 2011.\n",
      "\n",
      "Units: umol/l\n",
      "----\n",
      "Mediterranean Sea DIVA 4D analysis of Water_body_total_phosphorus\n",
      "Moving 10-years analysis of total phosphorus at Mediterranean Sea for each season :\n",
      "- winter (January-March),\n",
      "- spring (April-June),\n",
      "- summer (July-September),\n",
      "- autumn (October-December).\n",
      "\n",
      "Every year of the time dimension corresponds to the 10-year centered average of each season.\n",
      "Decades span from 1984-1993 until 1998-2007.\n",
      "Observational data span from 1978 to 2013.\n",
      "Depth range (IODE standard depths): -1000.0, -900.0, -800.0, -700.0, -600.0, -500.0, -400.0, -300.0, -250.0, -200.0, -150.0, -125.0, -100.0, -75.0, -50.0, -30.0, -20.0, -10.0, -5.0, -0.0.\n",
      "\n",
      "Data Sources: observational data from SeaDataNet/EMODNet Chemistry Data Network.\n",
      "\n",
      "Description of DIVA analysis:  Geostatistical data analysis by DIVA (Data-Interpolating Variational Analysis) tool. Profiles were interpolated at standard depths using weighted parabolic interpolation algorithm (Reiniger and Ross, 1968). GEBCO 1min topography is used for the contouring preparation. Analyzed filed masked using relative error threshold 0.3 and 0.5.\n",
      "\n",
      "DIVA settings: A constant value for signal-to-noise ratio was used equal to 3. Correlation length was optimized and filtered vertically and a seasonally-averaged profile was used.\n",
      "\n",
      "Logarithmic transformation applied to the data prior to the analysis.\n",
      "Background field: the data mean value is subtracted from the data.\n",
      "Detrending of data: no.\n",
      "Advection constraint applied: no.\n",
      "\n",
      "Originators of Italian data sets-List of contributors:\n",
      "o\tBrunetti Fabio (OGS)\n",
      "o\tCardin Vanessa, Bensi Manuel doi:10.6092/36728450-4296-4e6a-967d-d5b6da55f306\n",
      "o\tCardin Vanessa, Bensi Manuel, Ursella Laura, Siena Giuseppe doi:10.6092/f8e6d18e-f877-4aa5-a983-a03b06ccb987\n",
      "o\tCataletto Bruno (OGS)\n",
      "o\tCinzia Comici Cinzia (OGS)\n",
      "o\tCivitarese Giuseppe (OGS)\n",
      "o\tDeVittor Cinzia (OGS)\n",
      "o\tGiani Michele (OGS)\n",
      "o\tKovacevic Vedrana (OGS)\n",
      "o\tMosetti Renzo (OGS)\n",
      "o\tSolidoro C.,Beran A.,Cataletto B.,Celussi M.,Cibic T.,Comici C.,Del Negro P.,De Vittor C.,Minocci M.,Monti M.,Fabbro C.,Falconi C.,Franzo A.,Libralato S.,Lipizer M.,Negussanti J.S.,Russel H.,Valli G., doi:10.6092/e5518899-b914-43b0-8139-023718aa63f5\n",
      "o\tCelio Massimo (ARPA FVG)\n",
      "o\tMalaguti Antonella (ENEA)\n",
      "o\tFonda Umani Serena (UNITS)\n",
      "o\tBignami Francesco (ISAC/CNR)\n",
      "o\tBoldrini Alfredo (ISMAR/CNR)\n",
      "o\tMarini Mauro (ISMAR/CNR)\n",
      "o\tMiserocchi Stefano (ISMAR/CNR)\n",
      "o\tZaccone Renata (IAMC/CNR)\n",
      "o\tLavezza, R., Dubroca, L. F. C., Ludicone, D., Kress, N., Herut, B., Civitarese, G., Cruzado, A., Lefèvre, D., Souvermezoglou, E., Yilmaz, A., Tugrul, S., and Ribera d'Alcala, M.: Compilation of quality controlled nutrient profiles from the Mediterranean Sea, doi:10.1594/PANGAEA.771907, 2011.\n",
      "----\n",
      "Mediterranean Sea DIVA 4D analysis of Water_body_ammonium\n",
      "Moving 10-years analysis of ammonium at Mediterranean Sea for each season :\n",
      "- winter (January-March),\n",
      "- spring (April-June),\n",
      "- summer (July-September),\n",
      "- autumn (October-December).\n",
      "\n",
      "Every year of the time dimension corresponds to the 10-year centered average of the winter season.\n",
      "Decades span from 1977-1986 until 2004-2013.\n",
      "Observational data span from 1970 to 2013.\n",
      "Depth range (IODE standard depths): -1000.0, -900.0, -800.0, -700.0, -600.0, -500.0, -400.0, -300.0, -250.0, -200.0, -150.0, -125.0, -100.0, -75.0, -50.0, -30.0, -20.0, -10.0, -5.0, -0.0.\n",
      "\n",
      "Data Sources: observational data from SeaDataNet/EMODNet Chemistry Data Network.\n",
      "\n",
      "Description of DIVA analysis:  Geostatistical data analysis by DIVA (Data-Interpolating Variational Analysis) tool. Profiles were interpolated at standard depths using weighted parabolic interpolation algorithm (Reiniger and Ross, 1968). GEBCO 1min topography is used for the contouring preparation. Analyzed filed masked using relative error threshold 0.3 and 0.5.\n",
      "\n",
      "DIVA settings: A constant value for signal-to-noise ratio was used equal to 3. Correlation length was optimized and filtered vertically and a seasonally-averaged profile was used.\n",
      "\n",
      "Logarithmic transformation applied to the data prior to the analysis.\n",
      "Background field: the data mean value is subtracted from the data.\n",
      "Detrending of data: no.\n",
      "Advection constraint applied: no.\n",
      "\n",
      "Originators of Italian data sets-List of contributors:\n",
      "o\tBrunetti Fabio (OGS)\n",
      "o\tCardin Vanessa, Bensi Manuel doi:10.6092/36728450-4296-4e6a-967d-d5b6da55f306\n",
      "o\tCardin Vanessa, Bensi Manuel, Ursella Laura, Siena Giuseppe doi:10.6092/f8e6d18e-f877-4aa5-a983-a03b06ccb987\n",
      "o\tCataletto Bruno (OGS)\n",
      "o\tCinzia Comici Cinzia (OGS)\n",
      "o\tCivitarese Giuseppe (OGS)\n",
      "o\tDeVittor Cinzia (OGS)\n",
      "o\tGiani Michele (OGS)\n",
      "o\tKovacevic Vedrana (OGS)\n",
      "o\tMosetti Renzo (OGS)\n",
      "o\tSolidoro C.,Beran A.,Cataletto B.,Celussi M.,Cibic T.,Comici C.,Del Negro P.,De Vittor C.,Minocci M.,Monti M.,Fabbro C.,Falconi C.,Franzo A.,Libralato S.,Lipizer M.,Negussanti J.S.,Russel H.,Valli G., doi:10.6092/e5518899-b914-43b0-8139-023718aa63f5\n",
      "o\tCelio Massimo (ARPA FVG)\n",
      "o\tMalaguti Antonella (ENEA)\n",
      "o\tFonda Umani Serena (UNITS)\n",
      "o\tBignami Francesco (ISAC/CNR)\n",
      "o\tBoldrini Alfredo (ISMAR/CNR)\n",
      "o\tMarini Mauro (ISMAR/CNR)\n",
      "o\tMiserocchi Stefano (ISMAR/CNR)\n",
      "o\tZaccone Renata (IAMC/CNR)\n",
      "o\tLavezza, R., Dubroca, L. F. C., Ludicone, D., Kress, N., Herut, B., Civitarese, G., Cruzado, A., Lefèvre, D., Souvermezoglou, E., Yilmaz, A., Tugrul, S., and Ribera d'Alcala, M.: Compilation of quality controlled nutrient profiles from the Mediterranean Sea, doi:10.1594/PANGAEA.771907, 2011.\n",
      "----\n",
      "Mediterranean Sea DIVA 4D analysis of Water_body_silicate\n",
      "Moving 10-years analysis of silicates at Mediterranean Sea for each season :\n",
      "- winter (January-March),\n",
      "- spring (April-June),\n",
      "- summer (July-September),\n",
      "- autumn (October-December).\n",
      " \n",
      "Every year of the time dimension corresponds to the 10-year centered average of each season.\n",
      "Decades span from 1960-1969 until 2004-2013.\n",
      "Observational data span from 1960 to 2013.\n",
      "Depth range (IODE standard depths): -1500.0, -1400.0, -1300.0, -1200.0, -1100.0, -1000.0, -900.0, -800.0, -700.0, -600.0, -500.0, -400.0, -300.0, -250.0, -200.0, -150.0, -125.0, -100.0, -75.0, -50.0, -30.0, -20.0, -10.0, -5.0, -0.0.\n",
      "\n",
      "Data Sources: observational data from SeaDataNet/EMODNet Chemistry Data Network.\n",
      "\n",
      "Description of DIVA analysis:  Geostatistical data analysis by DIVA (Data-Interpolating Variational Analysis) tool. Profiles were interpolated at standard depths using weighted parabolic interpolation algorithm (Reiniger and Ross, 1968). GEBCO 1min topography is used for the contouring preparation. Analyzed filed masked using relative error threshold 0.3 and 0.5.\n",
      "\n",
      "DIVA settings: A constant value for signal-to-noise ratio was used equal to 3. Correlation length was optimized and filtered vertically and a seasonally-averaged profile was used.\n",
      "\n",
      "Logarithmic transformation applied to the data prior to the analysis.\n",
      "Background field: the data mean value is subtracted from the data.\n",
      "Detrending of data: no.\n",
      "Advection constraint applied: no.\n",
      "\n",
      "Originators of Italian data sets-List of contributors\n",
      "•\tBrunetti Fabio (OGS)\n",
      "•\tCardin Vanessa, Bensi Manuel doi:10.6092/36728450-4296-4e6a-967d-d5b6da55f306\n",
      "•\tCardin Vanessa, Bensi Manuel, Ursella Laura, Siena Giuseppe doi:10.6092/f8e6d18e-f877-4aa5-a983-a03b06ccb987\n",
      "•\tCataletto Bruno (OGS)\n",
      "•\tCinzia Comici Cinzia (OGS)\n",
      "•\tCivitarese Giuseppe (OGS)\n",
      "•\tDeVittor Cinzia (OGS)\n",
      "•\tGiani Michele (OGS)\n",
      "•\tKovacevic Vedrana (OGS)\n",
      "•\tMosetti Renzo (OGS)\n",
      "•\tSolidoro C.,Beran A.,Cataletto B.,Celussi M.,Cibic T.,Comici C.,Del Negro P.,De Vittor C.,Minocci M.,Monti M.,Fabbro C.,Falconi C.,Franzo A.,Libralato S.,Lipizer M.,Negussanti J.S.,Russel H.,Valli G., doi:10.6092/e5518899-b914-43b0-8139-023718aa63f5\n",
      "•\tCelio Massimo (ARPA FVG)\n",
      "•\tMalaguti Antonella (ENEA)\n",
      "•\tFonda Umani Serena (UNITS)\n",
      "•\tBignami Francesco (ISAC/CNR)\n",
      "•\tBoldrini Alfredo (ISMAR/CNR)\n",
      "•\tMarini Mauro (ISMAR/CNR)\n",
      "•\tMiserocchi Stefano (ISMAR/CNR)\n",
      "•\tZaccone Renata (IAMC/CNR)\n",
      "•\tLavezza, R., Dubroca, L. F. C., Ludicone, D., Kress, N., Herut, B., Civitarese, G., Cruzado, A., Lefèvre, D., Souvermezoglou, E., Yilmaz, A., Tugrul, S., and Ribera d’Alcala, M.: Compilation of quality controlled nutrient profiles from the Mediterranean Sea, doi:10.1594/PANGAEA.771907, 2011.\n",
      "\n",
      "Units: umol/l\n",
      "----\n",
      "Mediterranean Sea DIVA 4D analysis of Water_body_nitrite\n",
      "Moving 10-years analysis of nitrite at Mediterranean Sea for each season :\n",
      "- winter (January-March),\n",
      "- spring (April-June),\n",
      "- summer (July-September),\n",
      "- autumn (October-December).\n",
      "\n",
      "Every year of the time dimension corresponds to the 10-year centered average of each season.\n",
      "Decades span from 1965-1974 until 2004-2013.\n",
      "Observational data span from 1961 to 2013.\n",
      "Depth range (IODE standard depths): -1500.0, -1400.0, -1300.0, -1200.0, -1100.0, -1000.0, -900.0, -800.0, -700.0, -600.0, -500.0, -400.0, -300.0, -250.0, -200.0, -150.0, -125.0, -100.0, -75.0, -50.0, -30.0, -20.0, -10.0, -5.0, -0.0.\n",
      "\n",
      "Data Sources: observational data from SeaDataNet/EMODNet Chemistry Data Network.\n",
      "\n",
      "Description of DIVA analysis:  Geostatistical data analysis by DIVA (Data-Interpolating Variational Analysis) tool. Profiles were interpolated at standard depths using weighted parabolic interpolation algorithm (Reiniger and Ross, 1968). GEBCO 1min topography is used for the contouring preparation. Analyzed filed masked using relative error threshold 0.3 and 0.5.\n",
      "\n",
      "DIVA settings: A constant value for signal-to-noise ratio was used equal to 3. Correlation length was optimized and filtered vertically and a seasonally-averaged profile was used.\n",
      "\n",
      "Logarithmic transformation applied to the data prior to the analysis.\n",
      "Background field: the data mean value is subtracted from the data.\n",
      "Detrending of data: no.\n",
      "Advection constraint applied: no.\n",
      "\n",
      "Originators of Italian data sets-List of contributors:\n",
      "o\tBrunetti Fabio (OGS)\n",
      "o\tCardin Vanessa, Bensi Manuel doi:10.6092/36728450-4296-4e6a-967d-d5b6da55f306\n",
      "o\tCardin Vanessa, Bensi Manuel, Ursella Laura, Siena Giuseppe doi:10.6092/f8e6d18e-f877-4aa5-a983-a03b06ccb987\n",
      "o\tCataletto Bruno (OGS)\n",
      "o\tCinzia Comici Cinzia (OGS)\n",
      "o\tCivitarese Giuseppe (OGS)\n",
      "o\tDeVittor Cinzia (OGS)\n",
      "o\tGiani Michele (OGS)\n",
      "o\tKovacevic Vedrana (OGS)\n",
      "o\tMosetti Renzo (OGS)\n",
      "o\tSolidoro C.,Beran A.,Cataletto B.,Celussi M.,Cibic T.,Comici C.,Del Negro P.,De Vittor C.,Minocci M.,Monti M.,Fabbro C.,Falconi C.,Franzo A.,Libralato S.,Lipizer M.,Negussanti J.S.,Russel H.,Valli G., doi:10.6092/e5518899-b914-43b0-8139-023718aa63f5\n",
      "o\tCelio Massimo (ARPA FVG)\n",
      "o\tMalaguti Antonella (ENEA)\n",
      "o\tFonda Umani Serena (UNITS)\n",
      "o\tBignami Francesco (ISAC/CNR)\n",
      "o\tBoldrini Alfredo (ISMAR/CNR)\n",
      "o\tMarini Mauro (ISMAR/CNR)\n",
      "o\tMiserocchi Stefano (ISMAR/CNR)\n",
      "o\tZaccone Renata (IAMC/CNR)\n",
      "o\tLavezza, R., Dubroca, L. F. C., Ludicone, D., Kress, N., Herut, B., Civitarese, G., Cruzado, A., Lefèvre, D., Souvermezoglou, E., Yilmaz, A., Tugrul, S., and Ribera d'Alcala, M.: Compilation of quality controlled nutrient profiles from the Mediterranean Sea, doi:10.1594/PANGAEA.771907, 2011.\n",
      "----\n"
     ]
    }
   ],
   "source": [
    "anytext_query = PropertyIsEqualTo('apiso:AnyText','Mediterranean Sea')\n",
    "csw.getrecords2(constraints=[anytext_query], maxrecords=20, esn='full',outputschema='http://www.isotc211.org/2005/gmd')\n",
    "print(csw.results)\n",
    "for rec in csw.records:\n",
    "    print(csw.records[rec].identification[0].title)\n",
    "    print(csw.records[rec].identification[0].abstract)\n",
    "    print(\"----\")"
   ]
  },
  {
   "cell_type": "markdown",
   "metadata": {},
   "source": [
    "> ##### Example: search for title fields that contain \"Physics\"\n",
    "'Title' searches for the term solely within dataset titles"
   ]
  },
  {
   "cell_type": "code",
   "execution_count": 11,
   "metadata": {},
   "outputs": [
    {
     "name": "stdout",
     "output_type": "stream",
     "text": [
      "{'matches': 22, 'returned': 20, 'nextrecord': 21}\n",
      "EMODnet Physics - Deseasonalized Sea Level monthly means Global Oceans\n",
      "EMODnet Physics - Deseasonalized Sea Level monthly means Global Oceans. This product is based, uses and reprocess the CMEMS product id. SEALEVEL_GLO_PHY_CLIMATE_L4_REP_OBSERVATIONS_008_057.\n",
      "----\n",
      "EMODnet Physics - Map of the Absolute Sea Level Trend (DUACS) - ERDDAP\n",
      "EMODnet Physics - Absolute Sea Level Trends - trends are derived from the DUACS delayed-time (DT-2018 version) altimeter gridded maps of sea level anomalies based on a stable number of altimeters (two) in the satellite constellation.\n",
      "----\n",
      "EMODnet Physics - Map of the Absolute Sea Level Trend (GLORYS12V) - ERDDAP\n",
      "EMODnet - Regional sea level trends are derived from the GLORYS12v1 delayed-time (DT-2018 version) altimeter gridded maps of sea level anomalies based on a stable number of altimeters (two) in the satellite constellation\n",
      "----\n",
      "EMODnet Physics - Artic Sea Ice Extend - Annual Max and Min contours\n",
      "EMODnet Physics - Arctic Sea Ice Extend [2009 - ongoing] - Annual Max and Min contours. This product uses the Copernicus Marine Service product id. SEAICE_GLO_SEAICE_L4_NRT_OBSERVATIONS_011_001\n",
      "----\n",
      "EMODnet Physics - Antarctic Sea Ice Extend - Annual Max and Min contours\n",
      "EMODnet Physics - Antarctic Sea Ice Extend [2009 - Ongoing] - Annual Max and Min contours. This product uses the Copernicus Marine Service product id. SEAICE_GLO_SEAICE_L4_NRT_OBSERVATIONS_011_001\n",
      "----\n",
      "geophysics_pol_index\n",
      "Geophysics that are shown as polygons. Sometimes the real position of geophysical lines cannot be shown because of confidentiality reasons and in this case a polygon that shows the approximate location is used instead. In other cases the geophysics is best represented by a polygon – for example for 3D seismic surveys.\n",
      "----\n",
      "EMODnet Physics - Deseasonalized Sea Level monthly means Global Oceans\n",
      "EMODnet Physics - Deseasonalized Sea Level monthly means Global Oceans. This product is\n",
      "based, uses and reprocess the CMEMS product id. SEALEVEL_GLO_PHY_CLIMATE_L4_REP_OBSERVATIONS_008_057\n",
      "----\n",
      "EMODnet Physics - PSMSL in situ platforms layer\n",
      "EMODnet Physics Relative Sea Level Trends - PSMSL - collection of in situ data (time-series) as recorded by tide gauge platforms\n",
      "----\n",
      "EMODnet Physics DB of the river gauging stations\n",
      "Operational in situ river outflow data. The product includes near real time data from European river stations.\n",
      "----\n",
      "EMODnet Physics Wind speed and direction at sea/ground level\n",
      "In situ data for global winds at sea/ground level. This product provides the user with in situ data of the last 60 days. Wind speed is presented in false-colour.\n",
      "----\n",
      "EMODnet Physics - Map of the Absolute Sea Level Trend (DUACS)\n",
      "Absolute Sea Level trend Map [1993-2020]. The product is based on DUACS, developed by CMCC for EMODnet Physics.\n",
      "----\n",
      "EMODnet Physics Absolute Sea Level Trends\n",
      "In Situ Absolute Sea Level Trends. Trend is presented by means of false color arrows. This product (developed for EMODnet Physics) uses the SONEL data bank on sea level data from the global network of tide gauges + GNSS. The product is developed and maintained by SONEL.\n",
      "----\n",
      "EMODnet Physics - Map of the Absolute Sea Level Trend (GLORYS12V)\n",
      "Absolute Sea Level trend Map [1993-2019]. The product is based on GLORYS12v1, developed by CMCC for EMODnet Physics.\n",
      "----\n",
      "EMODnet Physics - Registry of continuous noise monitoring sites\n",
      "This product displays the fixed stations and transects to assess continuous noise. Data are collected from ICES DB (https://www.ices.dk/data/data-portals/Pages/Continuous-Noise.aspx), the JOMOPANS (https://jomopansgestool.au.dk/en/about) project and QUIETSEA (https://quietseas.eu/).\n",
      "----\n",
      "EMODnet Physics near real time sea level data\n",
      "near real time Sea level data from in situ stations (tide gauges). This product includes the European tide gauges organized under EuroGOOS TG TT and CMS INSTAC, IOC sea level core network, GLOSS stations, UHSLC Fast Delivery network, JRC TAD network. The EMODnet Physics product offers the latest 60 days of operational data (60m time res)\n",
      "----\n",
      "EMODnet Physics - Monthly maps of Absolute Sea Level data (DUACS)\n",
      "Monthly maps of Absolute Sea Level data [1993-2020]. The product is based on deseasonalized DUACS product, developed by CMCC for EMODnet Physics.\n",
      "----\n",
      "EMODnet Physics - Absolute Sea Level Trend\n",
      "EMODnet Physics - Absolute Sea Level Trends - trends are derived from the DUACS delayed-time (DT-2018 version) altimeter gridded maps of sea level anomalies based on a stable number of altimeters (two) in the satellite constellation\n",
      "----\n",
      "EMODnet Physics Global relative Sea Level Trends\n",
      "In Situ Relative Sea Level Trends. Trend is presented by means of false color arrows. This product (developed for EMODnet Physics) uses the Permanent Service for Mean Sea Level (PSMSL) data bank on sea level data from the global network of tide gauges since 1900. The trend is available for stations with at least 30 years of measurements.\n",
      "----\n",
      "EMODnet Physics - Collection of all platforms metadata\n",
      "EMODnet Physics - Collection of platforms metadata - updated daily\n",
      "----\n",
      "EMODnet Physics - Global Sea Level Anomalies\n",
      "Global Sea Level Anomalies - this product uses the PSMSL relative sea level trends. It shows annual variation compared to a long term trend (at least 30 years of recordings). \n",
      "\n",
      "Use \"viewparams\" parameter to specify: (1) syear (start year) from 1900 to 2015 (2) eyear (end year) from 1900 to 2015 (3) ayear (anomaly year) from 1900 to 2015 --- Note1: syear < eyear, syear <= ayear <= eyear --- Note2: eyear - syear >=30 -- Example: viewparams=syear:1900;eyear:2015;ayear:1900\n",
      "----\n"
     ]
    }
   ],
   "source": [
    "title_query = PropertyIsLike('apiso:Title','%Physics%', wildCard=\"%\")\n",
    "csw.getrecords2(constraints=[title_query], maxrecords=20, esn='full',outputschema='http://www.isotc211.org/2005/gmd')\n",
    "print(csw.results)\n",
    "for rec in csw.records:\n",
    "    print(csw.records[rec].identification[0].title)\n",
    "    print(csw.records[rec].identification[0].abstract)\n",
    "    print(\"----\")"
   ]
  },
  {
   "cell_type": "markdown",
   "metadata": {},
   "source": [
    "#### Search with a CQL query\n",
    "CQL allows to combine search term and filters to create more elaborate queries, narrowing down down the results here we are looking for \"Absolute\" \"Sea Level\""
   ]
  },
  {
   "cell_type": "markdown",
   "metadata": {},
   "source": [
    "> Example: search for Lophelia and 2021 in AnyText fields"
   ]
  },
  {
   "cell_type": "code",
   "execution_count": 12,
   "metadata": {},
   "outputs": [
    {
     "name": "stdout",
     "output_type": "stream",
     "text": [
      "{'matches': 7, 'returned': 7, 'nextrecord': 0}\n",
      "EMODnet Physics - Map of the Absolute Sea Level Trend (DUACS) - ERDDAP\n",
      "EMODnet Physics - Absolute Sea Level Trends - trends are derived from the DUACS delayed-time (DT-2018 version) altimeter gridded maps of sea level anomalies based on a stable number of altimeters (two) in the satellite constellation.\n",
      "----\n",
      "EMODnet Physics - Map of the Absolute Sea Level Trend (GLORYS12V) - ERDDAP\n",
      "EMODnet - Regional sea level trends are derived from the GLORYS12v1 delayed-time (DT-2018 version) altimeter gridded maps of sea level anomalies based on a stable number of altimeters (two) in the satellite constellation\n",
      "----\n",
      "EMODnet Physics - Map of the Absolute Sea Level Trend (DUACS)\n",
      "Absolute Sea Level trend Map [1993-2020]. The product is based on DUACS, developed by CMCC for EMODnet Physics.\n",
      "----\n",
      "EMODnet Physics Absolute Sea Level Trends\n",
      "In Situ Absolute Sea Level Trends. Trend is presented by means of false color arrows. This product (developed for EMODnet Physics) uses the SONEL data bank on sea level data from the global network of tide gauges + GNSS. The product is developed and maintained by SONEL.\n",
      "----\n",
      "EMODnet Physics - Map of the Absolute Sea Level Trend (GLORYS12V)\n",
      "Absolute Sea Level trend Map [1993-2019]. The product is based on GLORYS12v1, developed by CMCC for EMODnet Physics.\n",
      "----\n",
      "EMODnet Physics - Monthly maps of Absolute Sea Level data (DUACS)\n",
      "Monthly maps of Absolute Sea Level data [1993-2020]. The product is based on deseasonalized DUACS product, developed by CMCC for EMODnet Physics.\n",
      "----\n",
      "EMODnet Physics - Absolute Sea Level Trend\n",
      "EMODnet Physics - Absolute Sea Level Trends - trends are derived from the DUACS delayed-time (DT-2018 version) altimeter gridded maps of sea level anomalies based on a stable number of altimeters (two) in the satellite constellation\n",
      "----\n"
     ]
    }
   ],
   "source": [
    "csw.getrecords2(cql='csw:AnyText like \\'%Sea Level%\\' AND dc:title like \\'%Absolute%\\'' , maxrecords=20,esn='full',outputschema='http://www.isotc211.org/2005/gmd')  \n",
    "print(csw.results)              # For more information on query syntax, please refer to: https://developer.atlassian.com/server/confluence/advanced-searching-using-cql/ . \n",
    "for rec in csw.records:\n",
    "    print(csw.records[rec].identification[0].title)\n",
    "    print(csw.records[rec].identification[0].abstract)\n",
    "    print(\"----\")"
   ]
  },
  {
   "cell_type": "markdown",
   "metadata": {},
   "source": [
    "#### Get record metadata\n",
    "Choosing one specific record from the list returned above in order to inspect it in more details. "
   ]
  },
  {
   "cell_type": "code",
   "execution_count": 13,
   "metadata": {},
   "outputs": [
    {
     "name": "stdout",
     "output_type": "stream",
     "text": [
      "{'abstract': 'EMODnet Physics - Absolute Sea Level Trends - trends are derived '\n",
      "             'from the DUACS delayed-time (DT-2018 version) altimeter gridded '\n",
      "             'maps of sea level anomalies based on a stable number of '\n",
      "             'altimeters (two) in the satellite constellation.',\n",
      " 'abstract_url': None,\n",
      " 'accessconstraints': [],\n",
      " 'aggregationinfo': '',\n",
      " 'alternatetitle': None,\n",
      " 'bbox': <owslib.iso.EX_GeographicBoundingBox object at 0x7f040cfb2210>,\n",
      " 'classification': [],\n",
      " 'contact': [<owslib.iso.CI_ResponsibleParty object at 0x7f0424741890>],\n",
      " 'contributor': [],\n",
      " 'creator': [],\n",
      " 'date': [<owslib.iso.CI_Date object at 0x7f04247437d0>],\n",
      " 'datetype': [],\n",
      " 'denominators': [],\n",
      " 'distance': [],\n",
      " 'edition': None,\n",
      " 'extent': <owslib.iso.EX_Extent object at 0x7f040cfcabd0>,\n",
      " 'graphicoverview': [],\n",
      " 'identtype': 'dataset',\n",
      " 'keywords': [<owslib.iso.MD_Keywords object at 0x7f0424742bd0>,\n",
      "              <owslib.iso.MD_Keywords object at 0x7f042d7c2c50>,\n",
      "              <owslib.iso.MD_Keywords object at 0x7f042d7c0f10>,\n",
      "              <owslib.iso.MD_Keywords object at 0x7f040cfb3810>],\n",
      " 'otherconstraints': [],\n",
      " 'publisher': [],\n",
      " 'purpose': None,\n",
      " 'resourcelanguage': [],\n",
      " 'resourcelanguagecode': ['eng'],\n",
      " 'securityconstraints': [],\n",
      " 'spatialrepresentationtype': [],\n",
      " 'status': None,\n",
      " 'supplementalinformation': None,\n",
      " 'temporalextent_end': '2020-12-16T00:00:00Z',\n",
      " 'temporalextent_start': '2020-12-16T00:00:00Z',\n",
      " 'title': 'EMODnet Physics - Map of the Absolute Sea Level Trend (DUACS) - '\n",
      "          'ERDDAP',\n",
      " 'topiccategory': ['geoscientificInformation'],\n",
      " 'uom': [],\n",
      " 'uricode': ['EMODNET_CMCC_ASVL_DUAC_GLO_TRENDMAP_v2020'],\n",
      " 'uricodespace': [],\n",
      " 'useconstraints': [],\n",
      " 'uselimitation': ['Creative Commons Attribution Share-Alike '\n",
      "                   'http://www.opendefinition.org/licenses/cc-by-sa'],\n",
      " 'uselimitation_url': []}\n"
     ]
    }
   ],
   "source": [
    "from pprint import pprint\n",
    "records = [csw.records[rec] for rec in csw.records]\n",
    "record = records[0]\n",
    "pprint(vars(record.identification[0]))"
   ]
  },
  {
   "cell_type": "markdown",
   "metadata": {},
   "source": [
    "#### Get record data\n",
    "Accessing the actual online distribution methods for the selected record."
   ]
  },
  {
   "cell_type": "code",
   "execution_count": 14,
   "metadata": {},
   "outputs": [],
   "source": [
    "for resource in record.distribution.online:\n",
    "    print('Description: ', resource.description)\n",
    "    print('Protocol: ', resource.protocol)\n",
    "    print('URL: ', resource.url)\n",
    "    print(\"---\")"
   ]
  },
  {
   "cell_type": "markdown",
   "metadata": {},
   "source": [
    "### Store queried data and save as a CSV file\n",
    "The example that follows aims to show how to utilise the concepts viewed above. here we use a simple query on the title of records, (but any of the previously showcased queries can work) we then save the gathered data into a dataframe that is then converted into a .csv file which can be imported in Excel for example."
   ]
  },
  {
   "cell_type": "code",
   "execution_count": 15,
   "metadata": {},
   "outputs": [
    {
     "name": "stdout",
     "output_type": "stream",
     "text": [
      "{'matches': 112, 'returned': 112, 'nextrecord': 0}\n",
      "Data saved to data/CSW_data.csv\n"
     ]
    }
   ],
   "source": [
    "import pandas as pd\n",
    "Query_word = 'Baltic'\n",
    "\n",
    "# Set the CSW query properties\n",
    "title_query = PropertyIsLike('apiso:Title',f'%{Query_word}%', wildCard=\"%\")\n",
    "csw.getrecords2(constraints=[title_query], maxrecords=300, esn='full',outputschema='http://www.isotc211.org/2005/gmd')\n",
    "print(csw.results)\n",
    "\n",
    "# Create an empty dictionary to store URLs and protocols by title\n",
    "data_dict = {'Title': [], 'Abstract': [], 'URLs': [], 'Protocols': []}\n",
    "\n",
    "# Loop through the retrieved records\n",
    "for rec in csw.records:\n",
    "    record = csw.records[rec]\n",
    "    # Extract relevant information from the record\n",
    "    title = record.identification[0].title\n",
    "    abstract = record.identification[0].abstract\n",
    "    \n",
    "    # Initialize lists to store URLs and protocols for each record title\n",
    "    urls = []\n",
    "    protocols = []\n",
    "    \n",
    "    # Collect URLs and protocols associated with each record title\n",
    "    for resource in record.distribution.online:\n",
    "        if resource.url:\n",
    "            urls.append(resource.url)\n",
    "        if resource.protocol:\n",
    "            protocols.append(resource.protocol)\n",
    "    \n",
    "    # Combine URLs and protocols into single strings\n",
    "    urls_str = '; \\n'.join(urls)  \n",
    "    protocols_str = '; \\n'.join(protocols)\n",
    "    \n",
    "    # Append data to dictionary\n",
    "    data_dict['Title'].append(title)\n",
    "    data_dict['Abstract'].append(abstract)\n",
    "    data_dict['URLs'].append(urls_str)\n",
    "    data_dict['Protocols'].append(protocols_str)\n",
    "\n",
    "# Create a DataFrame from the dictionary\n",
    "df = pd.DataFrame(data_dict)\n",
    "\n",
    "# Sort the DataFrame by 'Title' column and reset index\n",
    "df_sorted = df.sort_values(by='Title').reset_index(drop=True)\n",
    "\n",
    "# Specify the CSV file path\n",
    "csv_file_path = 'data/CSW_data.csv'\n",
    "\n",
    "# Manually open the CSV file with line terminator as empty string\n",
    "csv_file = open(csv_file_path, 'w', newline='')\n",
    "\n",
    "# Write the DataFrame to the CSV file\n",
    "df_sorted.to_csv(csv_file, index=False)\n",
    "\n",
    "# Manually close the CSV file\n",
    "csv_file.close()\n",
    "\n",
    "print(f\"Data saved to {csv_file_path}\")"
   ]
  },
  {
   "cell_type": "markdown",
   "metadata": {},
   "source": [
    "### [>> Next: Visualize data using OGC Web Mapping Service (WMS)](Tutorial_Part_2_WMS.ipynb) "
   ]
  },
  {
   "cell_type": "markdown",
   "metadata": {},
   "source": [
    "<hr>"
   ]
  },
  {
   "cell_type": "markdown",
   "metadata": {},
   "source": [
    "<a rel=\"license\" href=\"http://creativecommons.org/licenses/by/4.0/\"><img style=\"float: right\" alt=\"Creative Commons Lizenzvertrag\" style=\"border-width:0\" src=\"https://i.creativecommons.org/l/by/4.0/88x31.png\" /></a>"
   ]
  }
 ],
 "metadata": {
  "kernelspec": {
   "display_name": "ogc_workshop",
   "language": "python",
   "name": "python3"
  },
  "language_info": {
   "codemirror_mode": {
    "name": "ipython",
    "version": 3
   },
   "file_extension": ".py",
   "mimetype": "text/x-python",
   "name": "python",
   "nbconvert_exporter": "python",
   "pygments_lexer": "ipython3",
   "version": "3.11.7"
  }
 },
 "nbformat": 4,
 "nbformat_minor": 2
}
