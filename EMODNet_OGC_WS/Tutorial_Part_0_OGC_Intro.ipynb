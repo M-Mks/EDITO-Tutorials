{
 "cells": [
  {
   "cell_type": "markdown",
   "metadata": {},
   "source": [
    "<img src=\".\\EMODnet_compact_colour (1).png\" align=\"right\" width=\"50%\"></img>\n",
    "# EMODnet OGC services Workshop\n",
    "### Tier 2: How to use OGC webservices offered by EMODnet in your data analysis"
   ]
  },
  {
   "cell_type": "markdown",
   "metadata": {},
   "source": [
    "## 0. Introduction to OGC web services"
   ]
  },
  {
   "cell_type": "markdown",
   "metadata": {},
   "source": [
    "In case you are familiar with OGC web services, you can continue in the next sections of the workshop:\n",
    "- [Search through metadata using the OGC Catalogue Service (CSW)](./1_search_metadata_with_CSW.ipynb) \n",
    "- [Visualize data using OGC Web Mapping Service (WMS)](./2_visualize_data_with_WMS.ipynb) \n",
    "- [Subset and download data using OGC Web Feature and Coverage Services (WFS/WCS)](./3_subset_and_download_data_with_WFS&WCS.ipynb)\n",
    "- [Use OGC services from common GIS software](./4_OGC_services_from_common_GIS_software.ipynb)"
   ]
  },
  {
   "cell_type": "markdown",
   "metadata": {},
   "source": [
    "### What are OGC web services?\n",
    "\n",
    "Web services offer a variety of standard protocols that use the internet to view, access and retrieve data and metadata. The Open Geospatial Consortium (OGC) has defined various different protocols for geospatial data and metadata.\n",
    "\n",
    "\n",
    "<br>\n",
    "<img src=\"./data/ogc_standards.jpg\" align=\"centre\" width=\"70%\"></img>\n",
    "<br>\n"
   ]
  },
  {
   "cell_type": "markdown",
   "metadata": {},
   "source": [
    "### CSW requests\n",
    "A Catalogue Service for the Web (CSW) is a widely used OGC standard to search collections of metadata for data, services and related information objects and export the metadata in a range of formats.\n",
    "The CSW core supports three main HTTP requests (operations), which are submitted in the form of a URL:\n",
    "> The ***GetCapabilities*** allows CSW clients to retrieve service metadata from a server, in this example we access the EMODnet Catalogue Service (CSW).\n",
    ">> Example:<br>\n",
    "[https://emodnet.ec.europa.eu/geonetwork/emodnet/eng/csw?<br>\n",
    "service=CSW&<br>\n",
    "request=GetCapabilities&<br>\n",
    "version=2.0.2](\thttps://emodnet.ec.europa.eu/geonetwork/emodnet/eng/csw?service=CSW&request=GetCapabilities&VERSION=2.0.2)\n",
    "\n",
    "> The ***GetRecords*** request allows to search for records, returning record IDs\n",
    ">> Example: Return a summary of the metadata for all records on the EMODnet catalogue. This can be filtered down further using the `constraints` parameter, and then limited to only 10 records for the purpose of this example using the `maxrecords` parameter<br>\n",
    "[https://emodnet.ec.europa.eu/geonetwork/emodnet/eng/csw?<br>\n",
    "    request=GetRecords&<br>\n",
    "    service=CSW&<br>\n",
    "    version=2.0.2&<br>\n",
    "    elementSetName=summary&<br>\n",
    "    outputschema=http://www.opengis.net/cat/csw/2.0.2&<br>\n",
    "    constraintlanguage=filter&<br> \n",
    "    constraint_language_version=1.1.0&<br>\n",
    "    resulttype=results&<br>\n",
    "    typenames=csw:record&<br>\n",
    "    maxrecords=10](https://emodnet.ec.europa.eu/geonetwork/emodnet/eng/csw?REQUEST=GetRecords&SERVICE=CSW&VERSION=2.0.2&ELEMENTSETNAME=summary&OUTPUTSCHEMA=http://www.opengis.net/cat/csw/2.0.2&CONSTRAINTLANGUAGE=FILTER&CONSTRAINT_LANGUAGE_VERSION=1.1.0&RESULTTYPE=results&TYPENAMES=csw:Record&&maxRecords=10)\n",
    "\n",
    "> The ***GetRecordById*** request retrieves the default representation of catalogue records using their identifier\n",
    ">> Example: return a record of the Marine communities of the coast of La Gomera in the Canary Islands<br>\n",
    "[https://emodnet.ec.europa.eu/geonetwork/emodnet/eng/csw?<br>\n",
    "service=CSW&<br>\n",
    "version=2.0.2&<br>\n",
    "request=GetRecordById&<br>\n",
    "elementSetName=full&<br>\n",
    "id=5c0f13ee-098a-442c-abfc-d4c08a527476](https://emodnet.ec.europa.eu/geonetwork/emodnet/eng/csw?request=GetRecordById&service=CSW&version=2.0.2&elementSetName=full&id=5c0f13ee-098a-442c-abfc-d4c08a527476)\n"
   ]
  },
  {
   "cell_type": "markdown",
   "metadata": {},
   "source": [
    "## Data Visualisation services\n",
    "### WMS requests\n",
    "The Web Map Service standard (WMS) provides a simple HTTP interface for requesting geo-registered map images from one or more distributed geospatial databases. A WMS request defines the geographic layer(s) and area of interest to be processed. The response to the request is one or more geo-registered map images (returned as JPEG, PNG, etc) that can be displayed in a Geographic Information System (GIS) or in your own web application (OpenLayers, Leaflet,...).\n",
    "\n",
    "The Web Map Service standard (WMS) provides a simple HTTP interface for requesting geo-registered map images from one or more distributed geospatial databases. A WMS request defines the geographic layer(s) and area of interest to be processed. The response to the request is one or more geo-registered map images (returned as JPEG, PNG, etc) that can be displayed in a Geographic Information System (GIS) or in your own web application (OpenLayers, Leaflet,...).\n",
    "\n",
    "The WMS supports the ***GetCapabilities***, ***GetMap*** and ***GetFeatureInfo*** operations as defined in the Open Geospatial Consortium (OGC) WMS standard."
   ]
  },
  {
   "cell_type": "markdown",
   "metadata": {},
   "source": [
    "#### WMS GetCapabilities\n",
    "As such, the mandatory ***GetCapabilities*** operation allows WMS clients to retrieve service metadata from a server. The response to a GetCapabilities request shall be an XML document containing metadata of the service (proposed layers, associated projections, author ...).\n",
    "\n",
    "The standard to construct a WMS ***GetCapabilities*** request is as follows:\n",
    "\n",
    ">{wms endpoint url}?SERVICE=WMS&VERSION=1.3.0&REQUEST=GetCapabilities\n",
    "\n",
    "The EMODnet WMS services are accessible from 7 thematics at the Pan-European scale or global scale for some specific data products. Enter one of the following WMS endpoint URLs into your WMS client (QGIS, ArcMap, MapInfo etc.):"
   ]
  },
  {
   "cell_type": "markdown",
   "metadata": {},
   "source": [
    "|Thematic|\tDescription|\tWMS GetCapabilities|\n",
    "|--------|-------------|-----------------------|\n",
    "|Bathymetry|\tData Products|\thttps://ows.emodnet-bathymetry.eu/wms?SERVICE=WMS&REQUEST=GetCapabilities&VERSION=1.3.0|\n",
    "Bathymetry|\tCDI data discovery \\n and access service|\thttps://geo-service.maris.nl/emodnet_bathymetry/wms?SERVICE=WMS&REQUEST=GetCapabilities&VERSION=1.3.0|\n",
    "Biology|\tData Products|\thttps://geo.vliz.be/geoserver/Emodnetbio/wms?SERVICE=WMS&REQUEST=GetCapabilities&VERSION=1.3.0|\n",
    "Biology|\tNew Data Products|\thttps://ows.emodnet.eu/geoserver/biology/ows?SERVICE=WMS&REQUEST=GetCapabilities&VERSION=1.3.0|\n",
    "Biology|\tOccurrence data|\thttps://geo.vliz.be/geoserver/Dataportal/wms?SERVICE=WMS&REQUEST=GetCapabilities&VERSION=1.3.0|\n",
    "Chemistry|\tEutrophication|\thttps://ec.oceanbrowser.net/emodnet/Python/web/wms?SERVICE=WMS&REQUEST=GetCapabilities&VERSION=1.3.0|\n",
    "Chemistry|\tLitter|\thttps://sextant.ifremer.fr/services/wms/emodnet_chemistry2?SERVICE=WMS&REQUEST=GetCapabilities&VERSION=1.3.0|\n",
    "Chemistry|\tContaminants|\thttps://geoserver.hcmr.gr/geoserver/EMODNET_SHARED/wms?SERVICE=WMS&REQUEST=GetCapabilities&VERSION=1.3.0|\n",
    "Chemistry|\tCDI data discovery and access service|\thttps://geo-service.maris.nl/emodnet_chemistry/wms?SERVICE=WMS&REQUEST=GetCapabilities&VERSION=1.3.0|\n",
    "Chemistry|\tDistribution of CDI observations per data category (P36) and MSFD sea regions|\thttps://geo-service.maris.nl/emodnet_chemistry_p36/wms?SERVICE=WMS&REQUEST=GetCapabilities&VERSION=1.3.0|\n",
    "Geology|\tSea-floor (bedrock)|\thttps://drive.emodnet-geology.eu/geoserver/bgr/wms?SERVICE=WMS&REQUEST=GetCapabilities&VERSION=1.3.0|\n",
    "Geology|\tMarine Minerals|\thttps://drive.emodnet-geology.eu/geoserver/gsi/wms?SERVICE=WMS&REQUEST=GetCapabilities&VERSION=1.3.0|\n",
    "Geology|\tSeabed substrate maps|\thttps://drive.emodnet-geology.eu/geoserver/gtk/wms?SERVICE=WMS&REQUEST=GetCapabilities&VERSION=1.3.0|\n",
    "Geology|\tEvents and Probabilities|\thttps://drive.emodnet-geology.eu/geoserver/ispra/wms?SERVICE=WMS&REQUEST=GetCapabilities&VERSION=1.3.0|\n",
    "Geology|\tCoastal Behaviour|\thttps://drive.emodnet-geology.eu/geoserver/tno/wms?SERVICE=WMS&REQUEST=GetCapabilities&VERSION=1.3.0|\n",
    "Geology|\tSubmerged Landscapes|\thttps://drive.emodnet-geology.eu/geoserver/bgs/wms?SERVICE=WMS&REQUEST=GetCapabilities&VERSION=1.3.0|\n",
    "Geology|\tIndex of borehole and geophysics data|\thttps://drive.emodnet-geology.eu/geoserver/geus/wms?SERVICE=WMS&REQUEST=GetCapabilities&VERSION=1.3.0|\n",
    "Human Activities|\tData and Data Products|\thttps://ows.emodnet-humanactivities.eu/wms?SERVICE=WMS&REQUEST=GetCapabilities&VERSION=1.3.0|\n",
    "Physics\tData and| Data Products|\thttps://prod-geoserver.emodnet-physics.eu/geoserver/ows?SERVICE=WMS&REQUEST=GetCapabilities&VERSION=1.3.0|\n",
    "Physics\tGridded| Products|\thttps://prod-erddap.emodnet-physics.eu/ncWMS/wms?SERVICE=WMS&REQUEST=GetCapabilities&VERSION=1.3.0|\n",
    "Seabed Habitats|\tGeneral datasets and products|\thttps://ows.emodnet-seabedhabitats.eu/geoserver/emodnet_view/wms?SERVICE=WMS&REQUEST=GetCapabilities&VERSION=1.3.0|\n",
    "Seabed Habitats|\tIndividual habitat map and model datasets|\thttps://ows.emodnet-seabedhabitats.eu/geoserver/emodnet_view_maplibrary/wms?SERVICE=WMS&REQUEST=GetCapabilities&VERSION=1.3.0|"
   ]
  },
  {
   "cell_type": "markdown",
   "metadata": {},
   "source": [
    "#### WMS GetMap \n",
    "Using the information given in the ***GetCapabilities*** request, the ***GetMap*** request returns a raster map containing the requested data layer selected from all the available layers as defined in the XML document. The elements such as the data layer, region, projection, size of the returned image, image format, etc. are defined in the form of arguments.\n",
    "\n",
    ">Example of a GetMap request that returns an image of the EMODnet Bathymetry Mean depth (DTM) based on source resolution of 1/8 arc minute (~250 meter) in multi colour style:<br>\n",
    "\n",
    "[https://ows.emodnet-bathymetry.eu/wms?<br>\n",
    "            service=WMS&<br>\n",
    "            request=GetMap&<br>\n",
    "            version=1.1.1&<br>\n",
    "            layers=emodnet:mean_multicolour&<br>\n",
    "            styles=&<br>\n",
    "            format=image/png&<br>\n",
    "            transparent=true&<br>\n",
    "            info_format=text/html&<br>\n",
    "            tiled=false&<br>\n",
    "            width=400&<br>\n",
    "            height=628&<br>\n",
    "            srs=EPSG:3857&<br>\n",
    "            bbox=-2669794,2250306,4800533,14538934](https://ows.emodnet-bathymetry.eu/wms?service=WMS&request=GetMap&version=1.1.1&layers=emodnet:mean_multicolour&styles=&format=image/png&transparent=true&info_format=text/html&tiled=false&width=400&height=628&srs=EPSG:3857&bbox=-2669794,2250306,4800533,14538934) \n",
    "\n",
    "Which returns: \n",
    "\n",
    "![Sample Image](https://ows.emodnet-bathymetry.eu/wms?service=WMS&request=GetMap&version=1.1.1&layers=emodnet:mean_multicolour&styles=&format=image/png&transparent=true&info_format=text/html&tiled=false&width=400&height=628&srs=EPSG:3857&bbox=-2669794,2250306,4800533,14538934)"
   ]
  },
  {
   "cell_type": "markdown",
   "metadata": {},
   "source": [
    "### Web Map Tile Service\n",
    "In contrast to a WMS service, which offers real time rendered georeferenced images for a custom geographic extent, a Web Map Tile Service (WMTS) serves pre-rendered georeferenced map tiles with a fixed geographic extent for different zoom levels. As images are pre-rendered and can be cached (locally or remotely), WMTS offers a superior performance for web map viewer applications.\n",
    "\n",
    "The EMODnet WMTS service are accessible from following endpoints:"
   ]
  },
  {
   "cell_type": "markdown",
   "metadata": {},
   "source": [
    "|Thematic|\tDescription|\tWMTS GetCapabilities|\n",
    "|--------|-------------|-----------------------|\n",
    "Bathymetry|\tData Products|\thttps://tiles.emodnet-bathymetry.eu/wmts/1.0.0/WMTSCapabilities.xml|\n",
    "Biology|\tData Products|\thttps://geo.vliz.be/geoserver/Dataportal/gwc/service/wmts?REQUEST=GetCapabilities&SERVICE=WMTS&VERSION=1.0.0|\n",
    "Biology|\tNew Data Products|\thttps://ows.emodnet.eu/geoserver/biology/gwc/service/wmts?REQUEST=GetCapabilities&SERVICE=WMTS&VERSION=1.0.0|\n",
    "Biology|\tOccurrence data|\thttps://geo.vliz.be/geoserver/Emodnetbio/gwc/service/wmts?REQUEST=GetCapabilities&SERVICE=WMTS&VERSION=1.0.0|\n",
    "Chemistry|\tContaminants|\thttps://geoserver.hcmr.gr/geoserver/EMODNET_SHARED/gwc/service/wmts?REQUEST=GetCapabilities&SERVICE=WMTS&VERSION=1.0.0|\n",
    "Geology|\tSea-floor (bedrock)|\thttps://drive.emodnet-geology.eu/geoserver/bgr/gwc/service/wmts?REQUEST=GetCapabilities&SERVICE=WMTS&VERSION=1.0.0|\n",
    "Geology|\tMarine Minerals|\thttps://drive.emodnet-geology.eu/geoserver/gsi/gwc/service/wmts?REQUEST=GetCapabilities&SERVICE=WMTS&VERSION=1.0.0|\n",
    "Geology|\tSeabed substrate maps|\thttps://drive.emodnet-geology.eu/geoserver/gtk/gwc/service/wmts?REQUEST=GetCapabilities&SERVICE=WMTS&VERSION=1.0.0|\n",
    "Geology|\tEvents and Probabilities|\thttps://drive.emodnet-geology.eu/geoserver/ispra/gwc/service/wmts?REQUEST=GetCapabilities&SERVICE=WMTS&VERSION=1.0.0|\n",
    "Geology|\tCoastal Behaviour|\thttps://drive.emodnet-geology.eu/geoserver/tno/gwc/service/wmts?REQUEST=GetCapabilities&SERVICE=WMTS&VERSION=1.0.0|\n",
    "Geology|\tSubmerged Landscapes|\thttps://drive.emodnet-geology.eu/geoserver/bgs/gwc/service/wmts?REQUEST=GetCapabilities&SERVICE=WMTS&VERSION=1.0.0|\n",
    "Geology|\tIndex of borehole and geophysics data|\thttps://drive.emodnet-geology.eu/geoserver/geus/gwc/service/wmts?REQUEST=GetCapabilities&SERVICE=WMTS&VERSION=1.0.0|\n",
    "Human Activities|\tData and Data Products|\thttps://ows.emodnet-humanactivities.eu/geoserver/gwc/service/wmts?REQUEST=GetCapabilities&SERVICE=WMTS&VERSION=1.0.0|\n",
    "Physics|\tData and Data Products|\thttps://prod-geoserver.emodnet-physics.eu/geoserver/gwc/service/wmts?REQUEST=GetCapabilities&SERVICE=WMTS&VERSION=1.0.0|\n",
    "Seabed Habitats|\tGeneral datasets and products|\thttps://ows.emodnet-seabedhabitats.eu/geoserver/emodnet_view/gwc/service/wmts?REQUEST=GetCapabilities&SERVICE=WMTS&VERSION=1.0.0|\n",
    "Seabed Habitats|\tIndividual habitat map and model datasets|\thttps://ows.emodnet-seabedhabitats.eu/geoserver/emodnet_view_maplibrary/gwc/service/wmts?REQUEST=GetCapabilities&SERVICE=WMTS&VERSION=1.0.0|"
   ]
  },
  {
   "cell_type": "markdown",
   "metadata": {},
   "source": [
    "## Data download services\n",
    "The EMODnet data layers are available as a Web Feature Service (WFS) or Web Coverage Service (WCS) in accordance with the Open Geospatial Consortium (OGC) specifications (www.opengeospatial.org).\n",
    "\n",
    "Note that some thematics provide other, non-OGC, web services too. For example a central EMODnet ERDDAP server, a REST service to the EMODnet Bathymetry DTM, EMODnet Biology allows specific parameters in the WFS requests, EMODnet Chemistry has an OPeNDAP service. See section Non-OGC web services"
   ]
  },
  {
   "cell_type": "markdown",
   "metadata": {},
   "source": [
    "### WFS requests\n",
    "WFS defines a standard for exchanging vector data by querying both the data structure and the source data. The basic operations are GetCapabilities, DescribeFeatureType, and GetFeature. WFS supports a variety of WFS output formats (Ex: GML, shapefile, json, geojson, CSV,...). The full list of output formats supported can be found by performing a WFS GetCapabilities request.\n",
    "\n",
    "The EMODnet WFS services are accessible from following endpoints:\n",
    "\n",
    "|Thematic|    Description|    WFS GetCapabilities|\n",
    "|--------|-------------|-----------------------|\n",
    "Bathymetry|\tData Products|\thttps://ows.emodnet-bathymetry.eu/wfs?SERVICE=WFS&REQUEST=GetCapabilities&VERSION=2.0.0|\n",
    "Biology|\tData Products|\thttps://geo.vliz.be/geoserver/Emodnetbio/wfs?SERVICE=WFS&REQUEST=GetCapabilities&VERSION=2.0.0|\n",
    "Biology|\tOccurrence data|\thttps://geo.vliz.be/geoserver/Dataportal/wfs?SERVICE=WFS&REQUEST=GetCapabilities&VERSION=2.0.0|\n",
    "Chemistry|\tLitter|\thttps://sextant.ifremer.fr/services/wfs/emodnet_chemistry2?SERVICE=WFS&REQUEST=GetCapabilities&VERSION=2.0.0|\n",
    "Chemistry|\tContaminants|\thttps://geoserver.hcmr.gr/geoserver/EMODNET_SHARED/wfs?SERVICE=WFS&REQUEST=GetCapabilities&VERSION=2.0.0|\n",
    "Chemistry|\tCDI data discovery and access service|\thttps://geo-service.maris.nl/emodnet_chemistry/wfs?SERVICE=WFS&REQUEST=GetCapabilities&VERSION=2.0.0|\n",
    "Chemistry|\tDistribution of CDI observations per data category (P36) and MSFD sea regions|\thttps://geo-service.maris.nl/emodnet_chemistry_p36/wfs?SERVICE=WFS&REQUEST=GetCapabilities&VERSION=2.0.0|\n",
    "Geology|\tSea-floor (bedrock)|\thttps://drive.emodnet-geology.eu/geoserver/bgr/wfs?SERVICE=WFS&REQUEST=GetCapabilities&VERSION=2.0.0|\n",
    "Geology|\tMarine Minerals|\thttps://drive.emodnet-geology.eu/geoserver/gsi/wfs?SERVICE=WFS&REQUEST=GetCapabilities&VERSION=2.0.0|\n",
    "Geology|\tSeabed substrate maps|\thttps://drive.emodnet-geology.eu/geoserver/gtk/wfs?SERVICE=WFS&REQUEST=GetCapabilities&VERSION=2.0.0|\n",
    "Geology|\tEvents and Probabilities|\thttps://drive.emodnet-geology.eu/geoserver/ispra/wfs?SERVICE=WFS&REQUEST=GetCapabilities&VERSION=2.0.0|\n",
    "Geology|\tCoastal Behaviour|\thttps://drive.emodnet-geology.eu/geoserver/tno/wfs?SERVICE=WFS&REQUEST=GetCapabilities&VERSION=2.0.0|\n",
    "Geology|\tSubmerged Landscapes|\thttps://drive.emodnet-geology.eu/geoserver/bgs/wfs?SERVICE=WFS&REQUEST=GetCapabilities&VERSION=2.0.0|\n",
    "Geology|\tIndex of borehole and geophysics data|\thttps://drive.emodnet-geology.eu/geoserver/geus/wfs?SERVICE=WFS&REQUEST=GetCapabilities&VERSION=2.0.0|\n",
    "Human Activities|\tData and Data Products|\thttps://ows.emodnet-humanactivities.eu/wfs?SERVICE=WFS&REQUEST=GetCapabilities&VERSION=2.0.0|\n",
    "Physics|\tData and Data Products|\thttps://prod-geoserver.emodnet-physics.eu/geoserver/ows?SERVICE=WFS&REQUEST=GetCapabilities&VERSION=2.0.0|\n",
    "Seabed Habitats|\tGeneral datasets and products|\thttps://ows.emodnet-seabedhabitats.eu/geoserver/emodnet_open/wfs?SERVICE=WFS&REQUEST=GetCapabilities&VERSION=2.0.0|\n",
    "Seabed Habitats|\tIndividual habitat map and model datasets|\thttps://ows.emodnet-seabedhabitats.eu/geoserver/emodnet_open_maplibrary/wfs?SERVICE=WFS&REQUEST=GetCapabilities&VERSION=2.0.0|\n"
   ]
  },
  {
   "cell_type": "markdown",
   "metadata": {},
   "source": [
    "#### WFS Get Cababilities\n",
    "> the ***GetCapabilities*** request generates a metadata document (xml) describing a WFS service provided by server as well as valid WFS operations and parameters.\n",
    "\n",
    "#### WFS DescribeFeature\n",
    "A ***DescribeFeature*** request returns a description of feature types supported by a WFS service.\n",
    "\n",
    "> Example of a EMODnet Biology ***DescribeFeature*** request:<br>\n",
    "[https://geo.vliz.be/geoserver/Dataportal/wfs?<br>\n",
    "            service=wfs&<br>\n",
    "            version=2.0.0&<br>\n",
    "            request=DescribeFeatureType&<br>\n",
    "            typeName=Dataportal:eurobis&<br>\n",
    "            outputFormat=application/json](https://geo.vliz.be/geoserver/Dataportal/wfs?service=wfs&version=2.0.0&request=DescribeFeatureType&typeName=Dataportal:eurobis&outputFormat=application/json)\n",
    "\n",
    ">Example of a EMODnet Human Activities ***DescribeFeature*** request:<br>\n",
    "[https://ows.emodnet-humanactivities.eu/wfs?<br>\n",
    "            SERVICE=WFS&VERSION=1.1.0&<br>\n",
    "            request=describeFeatureType&<br>\n",
    "            typeName=shellfish&<br>\n",
    "            bbox=-1.3,0.3,49.2,49.9](https://ows.emodnet-humanactivities.eu/wfs?SERVICE=WFS&VERSION=1.1.0&request=describeFeatureType&typeName=shellfish&bbox=-1.3,0.3,49.2,49.9)\n",
    "\n",
    "#### WFS GetFeature\n",
    "> the ***GetFeature*** request returns a selection of features from a data source including geometry and attribute values.\n",
    "\n",
    ">Example of a EMODnet Human Activities ***GetFeature*** request:<br>\n",
    "[https://ows.emodnet-humanactivities.eu/wfs?<br>\n",
    "            SERVICE=WFS&VERSION=1.1.0&<br>\n",
    "            request=getFeature&<br>\n",
    "            typeName=shellfish&<br>\n",
    "            bbox=-1.3,0.3,49.2,49.9&<br>\n",
    "            outputFormat=application/json](https://ows.emodnet-humanactivities.eu/wfs?SERVICE=WFS&VERSION=1.1.0&request=getFeature&typeName=shellfish&bbox=-1.3,0.3,49.2,49.9&outputFormat=application/json)"
   ]
  },
  {
   "cell_type": "markdown",
   "metadata": {},
   "source": [
    "### WCS requests\n",
    "A Web Coverage Service (WCS) is a data-access protocol that defines and enables the web-based retrieval of multi-dimensional raster type geospatial datasets.  \n",
    "The WCS core supports three main HTTP requests (operations), which are submitted in the form of a URL:\n",
    "\n",
    "The EMODnet thematics provide Web Coverage Services (WCS) to support requests for coverage data (rasters) or gridded data products, accessible from one of the following adresses:\n",
    "\n",
    "|Thematic|    Description|    WCS GetCapabilities|\n",
    "|--------|-------------|-----------------------|\n",
    "Bathymetry|\tData Products|\thttps://ows.emodnet-bathymetry.eu/wcs?SERVICE=WCS&REQUEST=GetCapabilities&VERSION=2.0.1|\n",
    "Biology|\tData Products|\thttps://geo.vliz.be/geoserver/Emodnetbio/wcs?SERVICE=WCS&REQUEST=GetCapabilities&VERSION=2.0.1|\n",
    "Biology|\tNew Data Products|\thttps://ows.emodnet.eu/geoserver/biology/ows?SERVICE=WCS&REQUEST=GetCapabilities&VERSION=2.0.1|\n",
    "Human Activities|\tData and Data Products|\thttps://ows.emodnet-humanactivities.eu/wcs?SERVICE=WCS&REQUEST=GetCapabilities&VERSION=2.0.1|\n",
    "Seabed Habitats|\tIndividual habitat map and model datasets|\thttps://ows.emodnet-seabedhabitats.eu/geoserver/emodnet_open_maplibrary/wcs?SERVICE=WCS&REQUEST=GetCapabilities&VERSION=2.0.1|"
   ]
  },
  {
   "cell_type": "markdown",
   "metadata": {},
   "source": [
    "#### WCS GetCapabilities\n",
    "A WCS GetCapabilities request returns an XML document with information to the service and data provider and an overview of all the coverages (raster dataset) available on the web server.\n",
    "\n",
    "#### WCS DescribeCoverage\n",
    "A WCS ***DescribeCoverage*** request returns an XML document with metadata information fully describing one specific coverage\n",
    ">Example of an EMODnet Bathymetry ***DescribeCoverage*** request:<br>\n",
    "[https://ows.emodnet-bathymetry.eu/wcs?<br>\n",
    "            service=wcs&<br>\n",
    "            version=1.0.0&<br>\n",
    "            request=DescribeCoverage&<br>\n",
    "            coverage=emodnet:mean](https://ows.emodnet-bathymetry.eu/wcs?service=wcs&version=1.0.0&request=DescribeCoverage&coverage=emodnet:mean)\n",
    "\n",
    "#### WCS GetCoverage\n",
    "A WCS ***GetCoverage*** request returns a full coverage encoded in a specified format, e.g GeoTiff, XML or netCDF. similarly to a WMS ***GetMap*** request, but with several extensions to support the retrieval of coverages.\n",
    "\n",
    ">Example of an EMODnet Bathymetry ***GetCoverage*** request:<br>\n",
    "[https://ows.emodnet-bathymetry.eu/wcs?<br>\n",
    "            service=wcs&version=1.0.0&<br>\n",
    "            request=getcoverage&<br>\n",
    "            coverage=emodnet:mean&<br>\n",
    "            crs=EPSG:4326&<br>\n",
    "            BBOX=-2.52,45.6,-1.08,46.40&<br>\n",
    "            format=image/tiff&<br>\n",
    "            interpolation=nearest&<br>\n",
    "            resx=0.00208333&<br>\n",
    "            resy=0.00208333](https://ows.emodnet-bathymetry.eu/wcs?service=wcs&version=1.0.0&request=getcoverage&coverage=emodnet:mean&crs=EPSG:4326&BBOX=-2.52,45.6,-1.08,46.40&format=image/tiff&interpolation=nearest&resx=0.00208333&resy=0.00208333)"
   ]
  },
  {
   "cell_type": "markdown",
   "metadata": {},
   "source": [
    "## Non-OGC web services\n",
    "|Thematic|\tweb service|\tURL|\n",
    "|--------|-------------|-----------------------|\n",
    "EMDOnet|\tERDDAP|\thttps://erddap.emodnet.eu/erddap/index.html|\n",
    "Bathymetry|\tREST API|\thttps://rest.emodnet-bathymetry.eu/|\n",
    "Chemistry|\tTHREDDS|\thttp://opendap.oceanbrowser.net/thredds/catalog/data/emodnet-domains/catalog.html XML version: http://opendap.oceanbrowser.net/thredds/catalog/data/emodnet-domains/catalog.xml|\n",
    "Physics|\tERDDAP|\thttps://prod-erddap.emodnet-physics.eu/erddap/index.html\n",
    "\n",
    "#### Other useful links with documentation on EMODnet web services\n",
    "- Biology Github: https://github.com/EMODnet/EMODnet-Biology-Guidance\n",
    "- Chemistry GitHub: https://github.com/gher-ulg/EMODnet-Chemistry\n",
    "- Physics GitHub: https://github.com/EMODnet-Physics\n",
    "- Seabed habitats GitHub: https://github.com/emodnetseabedhabitats\n",
    "- Other repos in the main EMODnet GitHub: https://github.com/EMODnet\n",
    "\n",
    "#### OGC service status\n",
    "Having trouble? Verify the status of the EMODnet OGC services at https://monitor.emodnet.eu.\n",
    "\n"
   ]
  },
  {
   "cell_type": "markdown",
   "metadata": {},
   "source": [
    "### [>> Next: Search through metadata using the OGC Catalogue Service (CSW)](Tutorial_Part_1_CSW.ipynb)"
   ]
  },
  {
   "cell_type": "markdown",
   "metadata": {},
   "source": [
    "<hr>"
   ]
  },
  {
   "cell_type": "markdown",
   "metadata": {},
   "source": [
    "This workshop was adapted from the [Pydata 2017 workshop of Julia Wagemann](https://github.com/jwagemann/2017_pydata_tutorial) <a rel=\"license\" href=\"https://creativecommons.org/licenses/by/4.0/\"><img style=\"float: right\" alt=\"Creative Commons Lizenzvertrag\" style=\"border-width:0\" src=\"https://i.creativecommons.org/l/by/4.0/88x31.png\" /></a>"
   ]
  }
 ],
 "metadata": {
  "language_info": {
   "name": "python"
  }
 },
 "nbformat": 4,
 "nbformat_minor": 2
}
